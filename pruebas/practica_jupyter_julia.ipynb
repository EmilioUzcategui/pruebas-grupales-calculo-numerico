{
 "cells": [
  {
   "cell_type": "code",
   "execution_count": 8,
   "id": "9213ab85-4d1c-4f8d-8613-3a0bab8b3c43",
   "metadata": {
    "collapsed": true,
    "jupyter": {
     "outputs_hidden": true
    }
   },
   "outputs": [
    {
     "name": "stdout",
     "output_type": "stream",
     "text": [
      "11234212343123441234"
     ]
    }
   ],
   "source": [
    "#ciclos en julia\n",
    "\n",
    "#CICLO FOR\n",
    "#en julia los bucles for funcionan de la siguiente manera:\n",
    "for i in 1:8\n",
    "    #println(i)\n",
    "end\n",
    "#= la sintaxis es sencilla, definimos la variable iteradora (i) y en que intervalos va a \n",
    "trabajar dicha variable. en los intervalos hay que colocar el numero en donde empieza\n",
    "la variable y en donde termina, aunque tambien podemos colocar de por medio el como se \n",
    "incrementa la variable iteradora, como en este ejemplo: =#\n",
    "for i in 1:2:9\n",
    "    #println(i)\n",
    "end\n",
    "# en este ciclo la variable empieza en 1 y termina en 9 en incrementos de 2\n",
    "\n",
    "#ciclos anidados\n",
    "for i in 1:4\n",
    "    #print(i)\n",
    "    for j in 1:4\n",
    "        #print(j)\n",
    "    end\n",
    "end\n",
    "#=los ciclos for se pueden anidar como en python y funcionan exactamente igual. en este caso, por cada vez\n",
    "que itere el ciclo for de i el ciclo for de j va a completar una vuelta completa y asi hasta acabar=#\n",
    "\n",
    "#iteracion de cadenas de texto\n",
    "for i in \"hola\"\n",
    "    #println(i)\n",
    "end\n",
    "#= en este ciclo recorremos la cadena \"hola\" por lo que el valor que va tomando i es \n",
    "    el de cada caracter de la cadena de texto=#\n",
    "\n",
    "#iteracion de arrays\n",
    "lista=[1,3,5,6,2]\n",
    "for i in 1:length(lista)\n",
    "    #println(lista[i])\n",
    "end\n",
    "#= en julia la enumeracion de los elementos de un array no empieza desde 0, si no desde 1,\n",
    "algo que hay que tomar en cuenta cuando iteremos un array=#\n",
    "\n",
    "#CICLO WHILE\n",
    "#su sintaxis es \"while condicion\", bastante parecido a python, veamos el siguiente ejemplo\n",
    "a=0\n",
    "while a<10\n",
    "    #println(a)\n",
    "    a+=1\n",
    "end\n",
    "#= este ciclo se va a ejecutar siempre que a sea menor a 10, y estamos incrementando\n",
    "dicha variable en 1 dentro de este bucle, por lo que el ciclo va a terminar en algun momento\n",
    "=#\n",
    "\n",
    "#eso seria todo con los ciclos en julia\n",
    "\n",
    "\n"
   ]
  }
 ],
 "metadata": {
  "kernelspec": {
   "display_name": "Julia 1.10.3",
   "language": "julia",
   "name": "julia-1.10"
  },
  "language_info": {
   "file_extension": ".jl",
   "mimetype": "application/julia",
   "name": "julia",
   "version": "1.10.3"
  }
 },
 "nbformat": 4,
 "nbformat_minor": 5
}
