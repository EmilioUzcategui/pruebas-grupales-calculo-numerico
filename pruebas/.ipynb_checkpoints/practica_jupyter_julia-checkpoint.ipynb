{
 "cells": [
  {
   "cell_type": "code",
   "execution_count": 11,
   "id": "9213ab85-4d1c-4f8d-8613-3a0bab8b3c43",
   "metadata": {},
   "outputs": [],
   "source": [
    "#ciclos en julia\n",
    "\n",
    "#CICLO FOR\n",
    "#en julia los bucles for funcionan de la siguiente manera:\n",
    "for i in 1:8\n",
    "    #println(i)\n",
    "end\n",
    "#= la sintaxis es sencilla, definimos la variable iteradora (i) y en que intervalos va a \n",
    "trabajar dicha variable. en los intervalos hay que colocar el numero en donde empieza\n",
    "la variable y en donde termina, aunque tambien podemos colocar de por medio el como se \n",
    "incrementa la variable iteradora, como en este ejemplo: =#\n",
    "for i in 1:2:9\n",
    "    #println(i)\n",
    "end\n",
    "# en este ciclo la variable empieza en 1 y termina en 9 en incrementos de 2\n",
    "\n",
    "#ciclos anidados\n",
    "for i in 1:4\n",
    "    #print(i)\n",
    "    for j in 1:4\n",
    "        #print(j)\n",
    "    end\n",
    "end\n",
    "#=los ciclos for se pueden anidar como en python y funcionan exactamente igual. en este caso, por cada vez\n",
    "que itere el ciclo for de i el ciclo for de j va a completar una vuelta completa y asi hasta acabar=#\n",
    "\n",
    "#iteracion de cadenas de texto\n",
    "for i in \"hola\"\n",
    "    #println(i)\n",
    "end\n",
    "#= en este ciclo recorremos la cadena \"hola\" por lo que el valor que va tomando i es \n",
    "    el de cada caracter de la cadena de texto=#\n",
    "\n",
    "#iteracion de arrays\n",
    "lista=[1,3,5,6,2]\n",
    "for i in 1:length(lista)\n",
    "    #println(lista[i])\n",
    "end\n",
    "#= en julia la enumeracion de los elementos de un array no empieza desde 0, si no desde 1,\n",
    "algo que hay que tomar en cuenta cuando iteremos un array=#\n",
    "\n",
    "#CICLO WHILE\n",
    "#su sintaxis es \"while condicion\", bastante parecido a python, veamos el siguiente ejemplo\n",
    "a=0\n",
    "while a<10\n",
    "    #println(a)\n",
    "    a+=1\n",
    "end\n",
    "#= este ciclo se va a ejecutar siempre que a sea menor a 10, y estamos incrementando\n",
    "dicha variable en 1 dentro de este bucle, por lo que el ciclo va a terminar en algun momento\n",
    "=#\n",
    "\n",
    "#eso seria todo con los ciclos en julia"
   ]
  },
  {
   "cell_type": "code",
   "execution_count": 6,
   "id": "bc6125e3-0253-4cc3-bbc0-ad5945314632",
   "metadata": {},
   "outputs": [],
   "source": [
    "#condicionales en julia\n",
    "\n",
    "# condicional if\n",
    "a=10\n",
    "b=0\n",
    "if a>b\n",
    "    #print(\"a es mayor\")\n",
    "end\n",
    "#=en julia las sintaxis de los condicionales son igual que en python.\n",
    "el condicional if funciona de la siguiente manera, si la condicion es verdadera\n",
    "se ejecuta el codigo dentro de dicho bloque, de no ser verdad el programa sigue\n",
    "su camino normalmente=#\n",
    "\n",
    "#estructura IF/ELSE\n",
    "a=10\n",
    "b=0\n",
    "if a>b\n",
    "    #print(\"a es mayor\")\n",
    "else\n",
    "    #print(\"b es mayor o son iguales\")\n",
    "end\n",
    "#=la estructura if/else funciona de la siguiente manera, si if es falso, entonces se\n",
    "ejecuta lo que este dentro del else, y si if es verdadero se ejecuta el if \n",
    "pero no el else=#\n",
    "\n",
    "#estructura IF/ELSEIF/ELSE\n",
    "a=10\n",
    "b=0\n",
    "if a>b\n",
    "    #print(\"a es mayor\")\n",
    "elseif a<b\n",
    "    #print(\"b es mayor\")\n",
    "else \n",
    "    #print(\"a es igual a b\")\n",
    "end\n",
    "#= la estructura if/elseif/else se toma en cuenta cuando hay 3 o mas condiciones \n",
    "como en este caso. se sigue una secuencia igual que en if/else, ya que si un \n",
    "condicional no es verdadero pasa al otro hasta llegar al else o hasta que una condicion se cumpla.=#\n"
   ]
  },
  {
   "cell_type": "raw",
   "id": "c55d87c5-f99b-4d85-9596-8765085ded30",
   "metadata": {},
   "source": [
    "\"Funciones en Julia\"\n",
    "De manera similar a otros lenguajes, en Julia también existen las funciones, las cuales pueden tomar o no unos parámetros para procesarlos\n",
    "y retornar un valor. La sintaxis general para declarar y llamar una variable es la siguiente:"
   ]
  },
  {
   "cell_type": "code",
   "execution_count": 2,
   "id": "026a593b-92d1-4da7-a713-4eba1b0afe0c",
   "metadata": {},
   "outputs": [
    {
     "name": "stdout",
     "output_type": "stream",
     "text": [
      "13"
     ]
    }
   ],
   "source": [
    "function operacion(x,y)\n",
    "    y - x       \n",
    "    x + y\n",
    "end\n",
    "print(operacion(6, 7))"
   ]
  },
  {
   "cell_type": "raw",
   "id": "5ca8e93c-6b9c-42d3-8113-93b6d1bef6b3",
   "metadata": {},
   "source": [
    "Entonces podemos ver que para cada funcion que se quiera declarar se debe comenzar con la palabra reservada \"function\", seguido\n",
    "de el nombre que se le quiera asignar a la misma y los parámetros que se necesiten, luego se termina escribiendo el bloque de\n",
    "código que se quiera ejecutar y se cierra con un \"end\".\n",
    "\n",
    "En Julia también se utiliza el \"return\" antes de el \"end\" para decir específicamente que es lo que queremos que nos retorne la \n",
    "función, sin embargo en este caso no se utilizó para demostrar que cuando no usamos el \"return\" el interprete de Julia hace que\n",
    "la función retorne la última operacion realizada. Y a la hora de llamarla se escribe el nombre junto a los parámetros dentro de\n",
    "un paréntesis."
   ]
  },
  {
   "cell_type": "code",
   "execution_count": null,
   "id": "ee165ff6-614b-47be-952d-8f968b04729c",
   "metadata": {},
   "outputs": [],
   "source": [
    "También se puede escribir solo el nombre de la función, pero en esto caso se retorna la misma como un objeto y puede asignarse\n",
    "como cualquier otro valor:"
   ]
  },
  {
   "cell_type": "code",
   "execution_count": 5,
   "id": "b8c61dac-e857-4cca-bd10-27ba9012559b",
   "metadata": {},
   "outputs": [
    {
     "name": "stdout",
     "output_type": "stream",
     "text": [
      "13"
     ]
    }
   ],
   "source": [
    "function operacion(x,y)\n",
    "    y - x       \n",
    "    x + y\n",
    "end\n",
    "\n",
    "op = operacion\n",
    "\n",
    "print(op(6, 7))"
   ]
  },
  {
   "cell_type": "code",
   "execution_count": null,
   "id": "650eb233-6880-4976-b889-a37b3d7a4678",
   "metadata": {},
   "outputs": [],
   "source": [
    "Por otro lado también se pueden crear funciones que no tomen ningún parámetro:"
   ]
  },
  {
   "cell_type": "code",
   "execution_count": 3,
   "id": "617f031a-d429-4b19-b36e-fd118e1c8b4c",
   "metadata": {},
   "outputs": [
    {
     "name": "stdout",
     "output_type": "stream",
     "text": [
      "3.14"
     ]
    }
   ],
   "source": [
    "function pi()\n",
    "    return 3.14\n",
    "end\n",
    "print(pi())"
   ]
  },
  {
   "cell_type": "raw",
   "id": "929c3fb8-0a0c-4b84-a185-e1ed65881ee9",
   "metadata": {},
   "source": [
    "Y una pequeña diferencia en comparación con otros lenguajes es a la hora de hacer funciones que no retornen ningún valor,\n",
    "ya que vimos que al no agregar un \"return\" el interprete siempre retornará la ultima operación realizada, por lo que\n",
    "en Julia se usa la siguiente sintaxis:"
   ]
  },
  {
   "cell_type": "code",
   "execution_count": 4,
   "id": "52b9ae7c-c392-4b84-8b4b-2109575e75aa",
   "metadata": {},
   "outputs": [
    {
     "name": "stdout",
     "output_type": "stream",
     "text": [
      "se fue la lu"
     ]
    }
   ],
   "source": [
    "function imprimir(cadena)\n",
    "    print(cadena)\n",
    "    return nothing\n",
    "end\n",
    "imprimir(\"se fue la lu\")"
   ]
  },
  {
   "cell_type": "raw",
   "id": "42f0a4f5-af17-4b0a-9aad-7c3973acdfc2",
   "metadata": {},
   "source": [
    "\"Manejo de errores\"\n",
    "Para el manejo de errores en Julia tenemos las excepciones, el \"Try\" y \"Catch\", los cuales funcionan de forma similar\n",
    "que en otros lenguajes:"
   ]
  },
  {
   "cell_type": "code",
   "execution_count": 1,
   "id": "b4b546a3-fc8d-4a86-bf13-3375a3e2ecca",
   "metadata": {},
   "outputs": [
    {
     "name": "stdout",
     "output_type": "stream",
     "text": [
      "Error, ingresa un número\n"
     ]
    }
   ],
   "source": [
    "try\n",
    "    sqrt(\"Hola\")\n",
    "catch e\n",
    "    println(\"Error, ingresa un número\")\n",
    "end"
   ]
  },
  {
   "cell_type": "raw",
   "id": "cf7f486b-48b0-4081-86d8-50053eba3848",
   "metadata": {},
   "source": [
    "En el bloque \"Try\" se ejecuta un código, el cual se va a detener si salta una excepción, la cual se almacena en una variable\n",
    "en el bloque \"Catch\" y se ejecuta el código asignado al bloque.\n",
    "\n",
    "También es posible hacer un \"Catch para una excepción en específico:"
   ]
  },
  {
   "cell_type": "code",
   "execution_count": 18,
   "id": "bcd0e434-9168-4925-ad44-56ec6e69b351",
   "metadata": {},
   "outputs": [
    {
     "name": "stdout",
     "output_type": "stream",
     "text": [
      "Error, ingresa un número\n"
     ]
    }
   ],
   "source": [
    "try\n",
    "    sqrt(\"25\")\n",
    "catch MethodError\n",
    "    println(\"Error, ingresa un número\")\n",
    "end"
   ]
  },
  {
   "cell_type": "code",
   "execution_count": null,
   "id": "e4b10a91-6721-429d-9954-737f4834f12c",
   "metadata": {},
   "outputs": [],
   "source": [
    "También se puede agregar código para que se ejecute en el caso de que no se arroje ninguna excepción:"
   ]
  },
  {
   "cell_type": "code",
   "execution_count": 25,
   "id": "a79363ac-3a81-44af-8905-b62495c1ea75",
   "metadata": {},
   "outputs": [
    {
     "name": "stdout",
     "output_type": "stream",
     "text": [
      "5.0"
     ]
    }
   ],
   "source": [
    "try\n",
    "    x = sqrt(25)\n",
    "catch MethodError\n",
    "    println(\"Error, ingresa un número\")\n",
    "else\n",
    "    print(x)\n",
    "end"
   ]
  },
  {
   "cell_type": "code",
   "execution_count": null,
   "id": "b26db4ea-3628-41cb-92f1-5c5f89f55e6c",
   "metadata": {},
   "outputs": [],
   "source": [
    "En Julia además de esto existe una función llamada \"Throw\", que nos permite arrojar una excepción en casos específicos:"
   ]
  },
  {
   "cell_type": "code",
   "execution_count": 29,
   "id": "41a73ca9-67b3-46ca-a518-5b09f172a816",
   "metadata": {},
   "outputs": [
    {
     "ename": "LoadError",
     "evalue": "DomainError with -9:\nSe debe ingresar un número positivo",
     "output_type": "error",
     "traceback": [
      "DomainError with -9:\nSe debe ingresar un número positivo",
      "",
      "Stacktrace:",
      " [1] raiz(x::Int64)",
      "   @ Main .\\In[29]:3",
      " [2] top-level scope",
      "   @ In[29]:9"
     ]
    }
   ],
   "source": [
    "function raiz(x)\n",
    "    if x<0\n",
    "        throw(DomainError(x, \"Se debe ingresar un número positivo\"))\n",
    "    else\n",
    "        print(sqrt(x))\n",
    "    end\n",
    "end\n",
    "\n",
    "raiz(-9)"
   ]
  },
  {
   "cell_type": "code",
   "execution_count": null,
   "id": "9b9c7785-4b28-4bf8-891c-d309322a0dce",
   "metadata": {},
   "outputs": [],
   "source": [
    "En la función \"Throw\" se agrega como parámetro la excepción que se quiera arrojar, la cual tendrá otros 2 parámetros: una\n",
    "variable con la que se quiera asociar el error y un mensaje para mostrar."
   ]
  }
 ],
 "metadata": {
  "kernelspec": {
   "display_name": "Julia 1.10.3",
   "language": "julia",
   "name": "julia-1.10"
  },
  "language_info": {
   "file_extension": ".jl",
   "mimetype": "application/julia",
   "name": "julia",
   "version": "1.10.3"
  }
 },
 "nbformat": 4,
 "nbformat_minor": 5
}
